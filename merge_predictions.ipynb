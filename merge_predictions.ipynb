{
  "nbformat": 4,
  "nbformat_minor": 0,
  "metadata": {
    "colab": {
      "provenance": [],
      "gpuType": "T4"
    },
    "kernelspec": {
      "name": "python3",
      "display_name": "Python 3"
    },
    "language_info": {
      "name": "python"
    },
    "accelerator": "GPU"
  },
  "cells": [
    {
      "cell_type": "markdown",
      "source": [
        "Merge Exp1 and Exp2"
      ],
      "metadata": {
        "id": "wLNR_PYG6T_E"
      }
    },
    {
      "cell_type": "code",
      "execution_count": 1,
      "metadata": {
        "id": "LfCpfKB9y3gg"
      },
      "outputs": [],
      "source": [
        "import pandas as pd\n",
        "exp1= \"exp1_using_deberta.xlsx\"\n",
        "exp2= \"exp2_syn.xlsx\"\n",
        "outputfile=\"exp1&exp2.xlsx\"\n",
        "\n",
        "exp1_predictions = pd.read_excel(exp1)\n",
        "exp2_predictions = pd.read_excel(exp2)\n",
        "\n",
        "exp2_predictions = exp2_predictions[['emo_s', 'expr_s', 'feels_s', 'prob_emo_s', 'prob_expr_s', 'prob_feels_s']]\n",
        "predictions = pd.concat([exp1_predictions, exp2_predictions], axis=1)\n",
        "predictions.to_excel(outputfile, index=False)\n"
      ]
    },
    {
      "cell_type": "code",
      "source": [],
      "metadata": {
        "id": "wfb56fOd7Zc-"
      },
      "execution_count": null,
      "outputs": []
    }
  ]
}