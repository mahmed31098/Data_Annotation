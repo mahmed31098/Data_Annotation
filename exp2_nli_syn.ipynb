{
  "nbformat": 4,
  "nbformat_minor": 0,
  "metadata": {
    "colab": {
      "provenance": [],
      "gpuType": "T4"
    },
    "kernelspec": {
      "name": "python3",
      "display_name": "Python 3"
    },
    "language_info": {
      "name": "python"
    },
    "accelerator": "GPU"
  },
  "cells": [
    {
      "cell_type": "code",
      "execution_count": 3,
      "metadata": {
        "colab": {
          "base_uri": "https://localhost:8080/"
        },
        "id": "u6maCXnWFQJr",
        "outputId": "3bdbdfb7-4d31-4dad-8f1b-2ce071ae147b"
      },
      "outputs": [
        {
          "output_type": "stream",
          "name": "stdout",
          "text": [
            "Loading model...\n",
            "Predicting data using ['emo_s', 'expr_s', 'feels_s'] ...\n"
          ]
        },
        {
          "output_type": "stream",
          "name": "stderr",
          "text": [
            "/usr/local/lib/python3.10/dist-packages/transformers/tokenization_utils_base.py:2734: FutureWarning: The `truncation_strategy` argument is deprecated and will be removed in a future version, use `truncation=True` to truncate examples to a max length. You can give a specific length with `max_length` (e.g. `max_length=45`) or leave max_length to None to truncate to the maximal input size of the model (e.g. 512 for Bert).  If you have pairs of inputs, you can give a specific truncation strategy selected among `truncation='only_first'` (will only truncate the first sentence in the pairs) `truncation='only_second'` (will only truncate the second sentence in the pairs) or `truncation='longest_first'` (will iteratively remove tokens from the longest sentence in the pairs).\n",
            "  warnings.warn(\n"
          ]
        },
        {
          "output_type": "stream",
          "name": "stdout",
          "text": [
            "Model performance with prompt: emo_s\n",
            "              precision    recall  f1-score   support\n",
            "\n",
            "         NEG       0.80      0.61      0.69       816\n",
            "         NEU       0.28      0.15      0.20       240\n",
            "         POS       0.10      0.50      0.17        76\n",
            "\n",
            "    accuracy                           0.51      1132\n",
            "   macro avg       0.39      0.42      0.35      1132\n",
            "weighted avg       0.64      0.51      0.55      1132\n",
            "\n"
          ]
        },
        {
          "output_type": "stream",
          "name": "stderr",
          "text": [
            "/usr/local/lib/python3.10/dist-packages/transformers/tokenization_utils_base.py:2734: FutureWarning: The `truncation_strategy` argument is deprecated and will be removed in a future version, use `truncation=True` to truncate examples to a max length. You can give a specific length with `max_length` (e.g. `max_length=45`) or leave max_length to None to truncate to the maximal input size of the model (e.g. 512 for Bert).  If you have pairs of inputs, you can give a specific truncation strategy selected among `truncation='only_first'` (will only truncate the first sentence in the pairs) `truncation='only_second'` (will only truncate the second sentence in the pairs) or `truncation='longest_first'` (will iteratively remove tokens from the longest sentence in the pairs).\n",
            "  warnings.warn(\n"
          ]
        },
        {
          "output_type": "stream",
          "name": "stdout",
          "text": [
            "Model performance with prompt: expr_s\n",
            "              precision    recall  f1-score   support\n",
            "\n",
            "         NEG       0.77      0.80      0.78       816\n",
            "         NEU       0.38      0.15      0.21       240\n",
            "         POS       0.11      0.30      0.17        76\n",
            "\n",
            "    accuracy                           0.62      1132\n",
            "   macro avg       0.42      0.41      0.39      1132\n",
            "weighted avg       0.65      0.62      0.62      1132\n",
            "\n"
          ]
        },
        {
          "output_type": "stream",
          "name": "stderr",
          "text": [
            "/usr/local/lib/python3.10/dist-packages/transformers/tokenization_utils_base.py:2734: FutureWarning: The `truncation_strategy` argument is deprecated and will be removed in a future version, use `truncation=True` to truncate examples to a max length. You can give a specific length with `max_length` (e.g. `max_length=45`) or leave max_length to None to truncate to the maximal input size of the model (e.g. 512 for Bert).  If you have pairs of inputs, you can give a specific truncation strategy selected among `truncation='only_first'` (will only truncate the first sentence in the pairs) `truncation='only_second'` (will only truncate the second sentence in the pairs) or `truncation='longest_first'` (will iteratively remove tokens from the longest sentence in the pairs).\n",
            "  warnings.warn(\n"
          ]
        },
        {
          "output_type": "stream",
          "name": "stdout",
          "text": [
            "Model performance with prompt: feels_s\n",
            "              precision    recall  f1-score   support\n",
            "\n",
            "         NEG       0.75      0.81      0.78       816\n",
            "         NEU       0.31      0.12      0.17       240\n",
            "         POS       0.13      0.26      0.17        76\n",
            "\n",
            "    accuracy                           0.63      1132\n",
            "   macro avg       0.40      0.40      0.37      1132\n",
            "weighted avg       0.62      0.63      0.61      1132\n",
            "\n"
          ]
        }
      ],
      "source": [
        "import argparse\n",
        "import statistics\n",
        "import pandas as pd\n",
        "import numpy as np\n",
        "\n",
        "import torch\n",
        "from transformers import AutoModelForSequenceClassification, AutoTokenizer\n",
        "\n",
        "from sklearn.metrics import classification_report\n",
        "\n",
        "def compute_metrics(data, y_true, y_pred, probs_emotions, id_prompt, output_file):\n",
        "    print(classification_report(y_true, y_pred))\n",
        "    data[id_prompt] = y_pred\n",
        "    data['prob_'+id_prompt] = probs_emotions\n",
        "    data.to_excel(output_file, index=False)\n",
        "\n",
        "def compute_entailment(data, template_emo_name, template_expr_emo, template_feels_emo, prompts, output_file):\n",
        "\n",
        "    print(\"Loading model...\")\n",
        "\n",
        "    model = AutoModelForSequenceClassification.from_pretrained('microsoft/deberta-v2-xlarge-mnli')\n",
        "    tokenizer = AutoTokenizer.from_pretrained('microsoft/deberta-v2-xlarge-mnli')\n",
        "\n",
        "    device = torch.device(\"cuda:0\" if torch.cuda.is_available() else \"cpu\")\n",
        "    model.to(device)\n",
        "    model.eval()\n",
        "\n",
        "    print(\"Predicting data using\", prompts, \"...\")\n",
        "\n",
        "    text_list = data['TEXT'].tolist()\n",
        "    label_list = data['SENTIMENT'].tolist()\n",
        "    unique_labels = sorted(list(set(label_list)))\n",
        "\n",
        "    for id_prompt in prompts:\n",
        "        probs_emotions = []\n",
        "        y_true = []\n",
        "        y_pred = []\n",
        "        for i, text in enumerate(text_list):\n",
        "            premise = text\n",
        "            dict_emo_conf = {x: {} for x in unique_labels}\n",
        "            for label in unique_labels:\n",
        "                probs_syn = []\n",
        "                with torch.no_grad():\n",
        "                    if id_prompt == \"emo_s\":\n",
        "                        template = template_emo_name\n",
        "                        context = ''\n",
        "                    if id_prompt == \"expr_s\":\n",
        "                        template = template_expr_emo\n",
        "                        context = 'This text expresses '\n",
        "                    elif id_prompt == \"feels_s\":\n",
        "                        template = template_feels_emo\n",
        "                        context = 'This person feels '\n",
        "                    for syn_prompt in template[label]:\n",
        "                        x = tokenizer.encode(str(premise), str(context + syn_prompt), return_tensors='pt',truncation_strategy='only_first')\n",
        "                        x = x.to(device)\n",
        "                        logits = model(x)[0]\n",
        "                        entail_contradiction_logits = logits[:,[0,2]]\n",
        "                        prob_label_is_true = entail_contradiction_logits.softmax(dim=1)[:,1]\n",
        "                        probs_syn.append(prob_label_is_true.cpu().detach().numpy().tolist()[0])\n",
        "                    mean = statistics.mean(probs_syn)\n",
        "                dict_emo_conf[label] = mean\n",
        "            probs_emotions.append(list(dict_emo_conf.values()))\n",
        "            final_emo = max(dict_emo_conf, key=dict_emo_conf.get)\n",
        "            y_pred.append(final_emo)\n",
        "            y_true.append(label_list[i])\n",
        "        print(\"Model performance with prompt:\", id_prompt)\n",
        "        compute_metrics(data, y_true, y_pred, probs_emotions, id_prompt, output_file)\n",
        "\n",
        "\n",
        "\n",
        "def main():\n",
        "    # Parameters\n",
        "    data_file = \"training.xlsx\"\n",
        "    #data_file = \"path_to_your_data_file.tsv\"\n",
        "    output_file = \"output_file.xlsx\"\n",
        "    prompts = [\"emo_s\", \"expr_s\", \"feels_s\"]\n",
        "\n",
        "    template_emo_s = {\n",
        "    'POS': ['joy', 'achievement', 'pleasure', 'awesome', 'happy', 'blessed'],\n",
        "    'NEG': ['sadness', 'anger', 'disgust', 'fear', 'shame', 'guilt'],\n",
        "    'NEU': ['others', 'no emotion']\n",
        "    }\n",
        "\n",
        "    template_expr_s = {\n",
        "    'POS': ['joy', 'an achievement', 'pleasure', 'the awesome', 'happiness', 'the blessing'],\n",
        "    'NEG': ['sadness', 'anger', 'disgust', 'fear', 'shame', 'guilt'],\n",
        "    'NEU': ['others', 'no emotion']\n",
        "    }\n",
        "\n",
        "    template_feels_s = {\n",
        "    'POS': ['joyful', 'accomplished', 'pleasure', 'awesome', 'happy', 'blessed'],\n",
        "    'NEG': ['sadness', 'anger', 'disgusted', 'fear', 'shameful', 'guilty'],\n",
        "    'NEU': ['others', 'no emotion']\n",
        "    }\n",
        "\n",
        "\n",
        "    data = pd.read_excel(data_file)\n",
        "    compute_entailment(data, template_emo_s, template_expr_s, template_feels_s, prompts, output_file)\n",
        "\n",
        "if __name__ == \"__main__\":\n",
        "    main()\n"
      ]
    },
    {
      "cell_type": "code",
      "source": [],
      "metadata": {
        "id": "pHVSaT2AGR6s"
      },
      "execution_count": null,
      "outputs": []
    }
  ]
}