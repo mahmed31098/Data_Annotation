{
  "nbformat": 4,
  "nbformat_minor": 0,
  "metadata": {
    "colab": {
      "provenance": [],
      "gpuType": "T4"
    },
    "kernelspec": {
      "name": "python3",
      "display_name": "Python 3"
    },
    "language_info": {
      "name": "python"
    },
    "accelerator": "GPU"
  },
  "cells": [
    {
      "cell_type": "code",
      "execution_count": 1,
      "metadata": {
        "colab": {
          "base_uri": "https://localhost:8080/"
        },
        "id": "nPz3WAP18XLE",
        "outputId": "7d1b68ff-b1b8-4f1e-e23c-4e734e1daa18"
      },
      "outputs": [
        {
          "output_type": "stream",
          "name": "stdout",
          "text": [
            "\n",
            "Ensemble performance\n",
            "\n",
            "              precision    recall  f1-score   support\n",
            "\n",
            "         NEG       0.60      0.21      0.31       816\n",
            "         NEU       0.17      0.59      0.27       240\n",
            "         POS       0.09      0.04      0.05        76\n",
            "\n",
            "    accuracy                           0.28      1132\n",
            "   macro avg       0.29      0.28      0.21      1132\n",
            "weighted avg       0.47      0.28      0.28      1132\n",
            "\n",
            "Oracle ensemble performance\n",
            "\n",
            "              precision    recall  f1-score   support\n",
            "\n",
            "         NEG       0.89      0.88      0.89       816\n",
            "         NEU       0.84      0.32      0.46       240\n",
            "         POS       0.29      0.88      0.44        76\n",
            "\n",
            "    accuracy                           0.76      1132\n",
            "   macro avg       0.67      0.70      0.60      1132\n",
            "weighted avg       0.84      0.76      0.77      1132\n",
            "\n"
          ]
        }
      ],
      "source": [
        "import pandas as pd\n",
        "from collections import defaultdict\n",
        "import numpy as np\n",
        "from ast import literal_eval\n",
        "\n",
        "from sklearn.metrics import classification_report\n",
        "\n",
        "def compute_metrics(data, y_true, y_pred, output_file, t_ensemble):\n",
        "    data[t_ensemble] = y_pred\n",
        "    data.to_excel(output_file, index=False)\n",
        "    print(classification_report(y_true, y_pred))\n",
        "\n",
        "def ensemble_strategy(data, name_dataset, output_file):\n",
        "    #index2emo_blog = {0: 'anger', 1: 'disgust', 2:'fear', 3:'joy', 4:'noemo', 5:'sadness', 6:'surprise'}\n",
        "    #index2emo_tec = {0: 'anger', 1: 'disgust', 2:'fear', 3:'joy', 4:'sadness', 5:'surprise'}\n",
        "    index2emo_isear = {0: 'NEU', 1: 'POS', 2:'NEG'}\n",
        "    corpus_name_dic = {'training_annotated_data':index2emo_isear}\n",
        "    y_pred = []\n",
        "    y_true=[]\n",
        "    for index, row in data.iterrows():\n",
        "        dict = defaultdict(float)\n",
        "        list_pred = [row['emo_name'], row['emo_s'], row['expr_emo'], row['expr_s'], row['feels_emo'], row['feels_s'], row['wn_def']]\n",
        "        list_prob = [row['prob_emo_name'], row['prob_emo_s'], row['prob_expr_emo'], row['prob_expr_s'], row['prob_feels_emo'], row['prob_feels_s'], row['prob_wn_def']]\n",
        "        number_models = len(list_prob)\n",
        "        list_prob = np.array(list_prob)\n",
        "        average_probs = np.sum(list_prob, axis=0)/number_models\n",
        "        maxElement = np.amax(average_probs)\n",
        "        maxElement_pos = np.where(average_probs == np.amax(average_probs))\n",
        "        maxElement_pos = maxElement_pos[0][0]\n",
        "        final_emo = corpus_name_dic[name_dataset][maxElement_pos]\n",
        "        y_pred.append(final_emo)\n",
        "        y_true.append(row['SENTIMENT'])\n",
        "        t_ensemble = 'ensemble'\n",
        "    print(\"\\nEnsemble performance\\n\")\n",
        "    compute_metrics(data, y_true, y_pred, output_file, t_ensemble)\n",
        "\n",
        "def oracle(data, name_dataset, output_file):\n",
        "    TP = 0\n",
        "    FN = 0\n",
        "    y_true = data.SENTIMENT\n",
        "    y_pred = []\n",
        "    for index, row in data.iterrows():\n",
        "        label_gold = row['SENTIMENT']\n",
        "        if (label_gold == row['emo_name'] or label_gold == row['expr_emo'] or label_gold == row['feels_emo'] or label_gold == row['wn_def'] or label_gold == row['emo_s']or label_gold == row['expr_s'] or label_gold == row['feels_s']):\n",
        "            TP += 1\n",
        "            y_pred.append(label_gold)\n",
        "        else:\n",
        "            FN += 1\n",
        "            y_pred.append(row['emo_s'])\n",
        "    t_ensemble = 'oracle'\n",
        "\n",
        "    print(\"Oracle ensemble performance\\n\")\n",
        "    compute_metrics(data, y_true, y_pred, output_file, t_ensemble)\n",
        "\n",
        "def main():\n",
        "\n",
        "    merged_datafile='exp1&exp2.xlsx'\n",
        "    name_dataset= 'training_annotated_data'\n",
        "    output_file= 'ensemble.xlsx'\n",
        "    data = pd.read_excel(merged_datafile)\n",
        "\n",
        "    data['prob_emo_name'] = data['prob_emo_name'].apply(literal_eval)\n",
        "    data['prob_expr_emo'] = data['prob_expr_emo'].apply(literal_eval)\n",
        "    data['prob_feels_emo'] = data['prob_feels_emo'].apply(literal_eval)\n",
        "    data['prob_wn_def'] = data['prob_wn_def'].apply(literal_eval)\n",
        "    data['prob_emo_s'] = data['prob_emo_s'].apply(literal_eval)\n",
        "    data['prob_expr_s'] = data['prob_expr_s'].apply(literal_eval)\n",
        "    data['prob_feels_s'] = data['prob_feels_s'].apply(literal_eval)\n",
        "\n",
        "    ensemble_strategy(data, name_dataset, output_file)\n",
        "    oracle(data, name_dataset, output_file)\n",
        "\n",
        "if __name__ == \"__main__\":\n",
        "    main()\n"
      ]
    },
    {
      "cell_type": "code",
      "source": [],
      "metadata": {
        "id": "e2dHyy19Begu"
      },
      "execution_count": null,
      "outputs": []
    }
  ]
}